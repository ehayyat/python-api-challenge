{
 "cells": [
  {
   "cell_type": "markdown",
   "metadata": {},
   "source": [
    "# WeatherPy\n"
   ]
  },
  {
   "cell_type": "code",
   "execution_count": 2,
   "metadata": {
    "scrolled": true
   },
   "outputs": [],
   "source": [
    "# Dependencies and Setup\n",
    "import matplotlib.pyplot as plt\n",
    "import pandas as pd\n",
    "import numpy as np\n",
    "import requests\n",
    "import time\n",
    "from scipy.stats import linregress\n",
    "import scipy.stats as st\n",
    "\n",
    "\n",
    "# Import API key\n",
    "from api_keys import weather_api_key\n",
    "\n",
    "# Incorporated citipy to determine city based on latitude and longitude\n",
    "from citipy import citipy\n",
    "\n",
    "# Output File (CSV)\n",
    "output_data_file = \"output_data/cities.csv\"\n",
    "\n",
    "# Range of latitudes and longitudes\n",
    "lat_range = (-90, 90)\n",
    "lng_range = (-180, 180)"
   ]
  },
  {
   "cell_type": "markdown",
   "metadata": {},
   "source": [
    "## Generate Cities List"
   ]
  },
  {
   "cell_type": "code",
   "execution_count": 3,
   "metadata": {},
   "outputs": [
    {
     "data": {
      "text/plain": [
       "613"
      ]
     },
     "execution_count": 3,
     "metadata": {},
     "output_type": "execute_result"
    }
   ],
   "source": [
    "# List for holding lat_lngs and cities\n",
    "lat_lngs = []\n",
    "cities = []\n",
    "\n",
    "# Create a set of random lat and lng combinations\n",
    "lats = np.random.uniform(lat_range[0], lat_range[1], size=1500)\n",
    "lngs = np.random.uniform(lng_range[0], lng_range[1], size=1500)\n",
    "lat_lngs = zip(lats, lngs)\n",
    "\n",
    "# Identify nearest city for each lat, lng combination\n",
    "for lat_lng in lat_lngs:\n",
    "    city = citipy.nearest_city(lat_lng[0], lat_lng[1]).city_name\n",
    "    \n",
    "    # If the city is unique, then add it to a our cities list\n",
    "    if city not in cities:\n",
    "        cities.append(city)\n",
    "\n",
    "# Print the city count to confirm sufficient count\n",
    "len(cities)"
   ]
  },
  {
   "cell_type": "code",
   "execution_count": 4,
   "metadata": {},
   "outputs": [],
   "source": [
    "#Create empty lists to store data\n",
    "cities_list = []\n",
    "latitude = []\n",
    "longitude = []\n",
    "max_temp = []\n",
    "humidity = []\n",
    "clouds = []\n",
    "wind_speed = []\n",
    "country = []\n",
    "date = []\n",
    "\n",
    "#Set Counter\n",
    "index_counter = 0\n",
    "set_counter = 1"
   ]
  },
  {
   "cell_type": "markdown",
   "metadata": {},
   "source": [
    "### Perform API Calls\n",
    "* Perform a weather check on each city using a series of successive API calls.\n",
    "* Include a print log of each city as it'sbeing processed (with the city number and city name).\n",
    "\n",
    "> **HINT:** The OpenWeatherMap API only allows 60 calls per minute under their free plan. Try using `time.sleep(60)` after each set of 50 cities to avoid API errors due to large calls."
   ]
  },
  {
   "cell_type": "code",
   "execution_count": 5,
   "metadata": {
    "scrolled": true
   },
   "outputs": [
    {
     "name": "stdout",
     "output_type": "stream",
     "text": [
      "Start of Data Retrieval \n",
      "Processing Record 1 of Set 1 : verdun\n",
      "Processing Record 2 of Set 1 : punta arenas\n",
      "Processing Record 3 of Set 1 : bereda\n",
      "Processing Record 4 of Set 1 : jamestown\n",
      "Processing Record 5 of Set 1 : ushuaia\n",
      "Processing Record 6 of Set 1 : port alfred\n",
      "Processing Record 7 of Set 1 : hermanus\n",
      "Processing Record 8 of Set 1 : severo-kurilsk\n",
      "Processing Record 9 of Set 1 : esmeraldas\n",
      "Processing Record 10 of Set 1 : georgetown\n",
      "Processing Record 11 of Set 1 : bengkulu\n",
      "Processing Record 12 of Set 1 : port elizabeth\n",
      "Processing Record 13 of Set 1 : rocha\n",
      "Processing Record 14 of Set 1 : eyl\n",
      "Processing Record 15 of Set 1 : kapaa\n",
      "Processing Record 16 of Set 1 : conceicao do araguaia\n",
      "Processing Record 17 of Set 1 : avarua\n",
      "Processing Record 18 of Set 1 : barrow\n",
      "Processing Record 19 of Set 1 : kasongo\n",
      "Processing Record 20 of Set 1 : stornoway\n",
      "Processing Record 21 of Set 1 : atuona\n",
      "Processing Record 22 of Set 1 : qostanay\n",
      "Processing Record 23 of Set 1 : yellowknife\n",
      "Processing Record 24 of Set 1 : butaritari\n",
      "Processing Record 25 of Set 1 : leshukonskoye\n",
      "Processing Record 26 of Set 1 : chuy\n",
      "Processing Record 27 of Set 1 : clyde\n",
      "Processing Record 28 of Set 1 : manavalakurichi\n",
      "Processing Record 29 of Set 1 : buenaventura\n",
      "Processing Record 30 of Set 1 : busselton\n",
      "Processing Record 31 of Set 1 : nachingwea\n",
      "Processing Record 32 of Set 1 : chokurdakh\n",
      "Processing Record 33 of Set 1 : rikitea\n",
      "Processing Record 34 of Set 1 : tasiilaq\n",
      "Processing Record 35 of Set 1 : edgewater\n",
      "Processing Record 36 of Set 1 : ilulissat\n",
      "Processing Record 37 of Set 1 : vaini\n",
      "Processing Record 38 of Set 1 : lagoa\n",
      "Processing Record 39 of Set 1 : petropavlovsk-kamchatskiy\n",
      "Processing Record 40 of Set 1 : albany\n",
      "Processing Record 41 of Set 1 : bluff\n",
      "Processing Record 42 of Set 1 : rehti\n",
      "City not found. Skipping...\n",
      "Processing Record 43 of Set 1 : longyearbyen\n",
      "Processing Record 44 of Set 1 : vestmannaeyjar\n",
      "City not found. Skipping...\n",
      "Processing Record 45 of Set 1 : ipora\n",
      "Processing Record 46 of Set 1 : manacapuru\n",
      "Processing Record 47 of Set 1 : bredasdorp\n",
      "Processing Record 48 of Set 1 : belvedere park\n",
      "Processing Record 49 of Set 1 : kathmandu\n",
      "Processing Record 50 of Set 1 : saint george\n",
      "Processing Record 0 of Set 2 : sikasso\n",
      "Processing Record 1 of Set 2 : rancho palos verdes\n",
      "Processing Record 2 of Set 2 : khatanga\n",
      "Processing Record 3 of Set 2 : leningradskiy\n",
      "Processing Record 4 of Set 2 : hasaki\n",
      "Processing Record 5 of Set 2 : guerrero negro\n",
      "City not found. Skipping...\n",
      "Processing Record 6 of Set 2 : west fargo\n",
      "Processing Record 7 of Set 2 : faya\n",
      "Processing Record 8 of Set 2 : idritsa\n",
      "Processing Record 9 of Set 2 : lincoln\n",
      "Processing Record 10 of Set 2 : upernavik\n",
      "Processing Record 11 of Set 2 : comodoro rivadavia\n",
      "Processing Record 12 of Set 2 : norman wells\n",
      "City not found. Skipping...\n",
      "Processing Record 13 of Set 2 : mbini\n",
      "Processing Record 14 of Set 2 : puerto ayora\n",
      "Processing Record 15 of Set 2 : provideniya\n",
      "Processing Record 16 of Set 2 : mataura\n",
      "Processing Record 17 of Set 2 : oloron-sainte-marie\n",
      "Processing Record 18 of Set 2 : itarema\n",
      "Processing Record 19 of Set 2 : khani\n",
      "Processing Record 20 of Set 2 : arraial do cabo\n",
      "Processing Record 21 of Set 2 : trincomalee\n",
      "Processing Record 22 of Set 2 : hilo\n",
      "Processing Record 23 of Set 2 : omsukchan\n",
      "Processing Record 24 of Set 2 : miri\n",
      "Processing Record 25 of Set 2 : meleuz\n",
      "Processing Record 26 of Set 2 : constitucion\n",
      "Processing Record 27 of Set 2 : ugoofaaru\n",
      "Processing Record 28 of Set 2 : clyde river\n",
      "Processing Record 29 of Set 2 : thompson\n",
      "Processing Record 30 of Set 2 : kinel-cherkassy\n",
      "Processing Record 31 of Set 2 : carnarvon\n",
      "Processing Record 32 of Set 2 : entre rios\n",
      "Processing Record 33 of Set 2 : kutum\n",
      "Processing Record 34 of Set 2 : tandalti\n",
      "City not found. Skipping...\n",
      "City not found. Skipping...\n",
      "Processing Record 35 of Set 2 : englehart\n",
      "Processing Record 36 of Set 2 : kahului\n",
      "City not found. Skipping...\n",
      "Processing Record 37 of Set 2 : bytosh\n",
      "City not found. Skipping...\n",
      "Processing Record 38 of Set 2 : sechelt\n",
      "Processing Record 39 of Set 2 : saint-philippe\n",
      "Processing Record 40 of Set 2 : kalengwa\n",
      "Processing Record 41 of Set 2 : ancud\n",
      "Processing Record 42 of Set 2 : cape town\n",
      "Processing Record 43 of Set 2 : narsaq\n",
      "Processing Record 44 of Set 2 : hobart\n",
      "Processing Record 45 of Set 2 : aberystwyth\n",
      "Processing Record 46 of Set 2 : gigmoto\n",
      "Processing Record 47 of Set 2 : hirara\n",
      "Processing Record 48 of Set 2 : yichang\n",
      "Processing Record 49 of Set 2 : domoni\n",
      "Processing Record 50 of Set 2 : opuwo\n",
      "City not found. Skipping...\n",
      "Processing Record 0 of Set 3 : san quintin\n",
      "Processing Record 1 of Set 3 : craig\n",
      "Processing Record 2 of Set 3 : east london\n",
      "Processing Record 3 of Set 3 : inuvik\n",
      "Processing Record 4 of Set 3 : angoche\n",
      "Processing Record 5 of Set 3 : cidreira\n",
      "Processing Record 6 of Set 3 : krasnoselkup\n",
      "Processing Record 7 of Set 3 : san cristobal\n",
      "Processing Record 8 of Set 3 : westport\n",
      "City not found. Skipping...\n",
      "Processing Record 9 of Set 3 : raudeberg\n",
      "Processing Record 10 of Set 3 : esperance\n",
      "Processing Record 11 of Set 3 : tezu\n",
      "Processing Record 12 of Set 3 : kavaratti\n",
      "City not found. Skipping...\n",
      "Processing Record 13 of Set 3 : nantucket\n",
      "Processing Record 14 of Set 3 : brownsville\n",
      "Processing Record 15 of Set 3 : axim\n",
      "Processing Record 16 of Set 3 : ardakan\n",
      "Processing Record 17 of Set 3 : plettenberg bay\n",
      "Processing Record 18 of Set 3 : buenos aires\n",
      "Processing Record 19 of Set 3 : cesme\n",
      "Processing Record 20 of Set 3 : hofn\n",
      "Processing Record 21 of Set 3 : waipawa\n",
      "Processing Record 22 of Set 3 : zhigansk\n",
      "Processing Record 23 of Set 3 : zadar\n",
      "City not found. Skipping...\n",
      "Processing Record 24 of Set 3 : mahebourg\n",
      "Processing Record 25 of Set 3 : hervey bay\n",
      "Processing Record 26 of Set 3 : jardim\n",
      "Processing Record 27 of Set 3 : taikang\n",
      "Processing Record 28 of Set 3 : mayo\n",
      "Processing Record 29 of Set 3 : cabedelo\n",
      "City not found. Skipping...\n",
      "Processing Record 30 of Set 3 : mombetsu\n",
      "Processing Record 31 of Set 3 : dwarka\n",
      "Processing Record 32 of Set 3 : tuktoyaktuk\n",
      "Processing Record 33 of Set 3 : surskoye\n",
      "Processing Record 34 of Set 3 : cortes\n",
      "Processing Record 35 of Set 3 : mar del plata\n",
      "Processing Record 36 of Set 3 : pergamino\n",
      "Processing Record 37 of Set 3 : portland\n",
      "Processing Record 38 of Set 3 : waingapu\n",
      "Processing Record 39 of Set 3 : tilichiki\n",
      "City not found. Skipping...\n",
      "Processing Record 40 of Set 3 : khvastovichi\n",
      "Processing Record 41 of Set 3 : cayenne\n",
      "Processing Record 42 of Set 3 : lakselv\n",
      "Processing Record 43 of Set 3 : tashtagol\n",
      "Processing Record 44 of Set 3 : saldanha\n",
      "Processing Record 45 of Set 3 : bilibino\n",
      "Processing Record 46 of Set 3 : vila do maio\n",
      "Processing Record 47 of Set 3 : novoagansk\n",
      "Processing Record 48 of Set 3 : hithadhoo\n",
      "Processing Record 49 of Set 3 : alindao\n",
      "Processing Record 50 of Set 3 : qaanaaq\n",
      "Processing Record 0 of Set 4 : severnoye\n",
      "Processing Record 1 of Set 4 : eydhafushi\n",
      "Processing Record 2 of Set 4 : henties bay\n",
      "City not found. Skipping...\n",
      "Processing Record 3 of Set 4 : san patricio\n",
      "Processing Record 4 of Set 4 : vetlanda\n",
      "Processing Record 5 of Set 4 : karratha\n",
      "Processing Record 6 of Set 4 : mitsamiouli\n",
      "Processing Record 7 of Set 4 : pisco\n",
      "City not found. Skipping...\n",
      "Processing Record 8 of Set 4 : new norfolk\n",
      "Processing Record 9 of Set 4 : kargasok\n",
      "City not found. Skipping...\n",
      "Processing Record 10 of Set 4 : benjamin constant\n",
      "Processing Record 11 of Set 4 : titlagarh\n",
      "Processing Record 12 of Set 4 : hamilton\n",
      "Processing Record 13 of Set 4 : marsa matruh\n",
      "Processing Record 14 of Set 4 : kodiak\n",
      "Processing Record 15 of Set 4 : ponta do sol\n",
      "Processing Record 16 of Set 4 : nanortalik\n",
      "Processing Record 17 of Set 4 : hanna\n",
      "Processing Record 18 of Set 4 : baraboo\n",
      "City not found. Skipping...\n",
      "Processing Record 19 of Set 4 : laguna\n",
      "Processing Record 20 of Set 4 : belyy yar\n",
      "Processing Record 21 of Set 4 : bundaberg\n",
      "Processing Record 22 of Set 4 : katsuura\n",
      "Processing Record 23 of Set 4 : broken hill\n",
      "Processing Record 24 of Set 4 : tiksi\n",
      "Processing Record 25 of Set 4 : coquimbo\n",
      "Processing Record 26 of Set 4 : mecca\n",
      "Processing Record 27 of Set 4 : eura\n",
      "Processing Record 28 of Set 4 : lompoc\n",
      "Processing Record 29 of Set 4 : benghazi\n",
      "Processing Record 30 of Set 4 : port shepstone\n",
      "Processing Record 31 of Set 4 : havelock\n",
      "Processing Record 32 of Set 4 : eureka\n"
     ]
    },
    {
     "name": "stdout",
     "output_type": "stream",
     "text": [
      "Processing Record 33 of Set 4 : dahuk\n",
      "Processing Record 34 of Set 4 : ous\n",
      "Processing Record 35 of Set 4 : kang\n",
      "Processing Record 36 of Set 4 : salalah\n",
      "Processing Record 37 of Set 4 : ribeira grande\n",
      "Processing Record 38 of Set 4 : fakel\n",
      "Processing Record 39 of Set 4 : lieksa\n",
      "Processing Record 40 of Set 4 : san pedro\n",
      "Processing Record 41 of Set 4 : jieshou\n",
      "Processing Record 42 of Set 4 : charlestown\n",
      "Processing Record 43 of Set 4 : caravelas\n",
      "Processing Record 44 of Set 4 : kavieng\n",
      "City not found. Skipping...\n",
      "City not found. Skipping...\n",
      "Processing Record 45 of Set 4 : omboue\n",
      "Processing Record 46 of Set 4 : camacha\n",
      "Processing Record 47 of Set 4 : copiapo\n",
      "Processing Record 48 of Set 4 : nisia floresta\n",
      "Processing Record 49 of Set 4 : si satchanalai\n",
      "Processing Record 50 of Set 4 : aklavik\n",
      "Processing Record 0 of Set 5 : black forest\n",
      "City not found. Skipping...\n",
      "Processing Record 1 of Set 5 : amapa\n",
      "Processing Record 2 of Set 5 : terme\n",
      "Processing Record 3 of Set 5 : pacific grove\n",
      "Processing Record 4 of Set 5 : vao\n",
      "Processing Record 5 of Set 5 : paamiut\n",
      "Processing Record 6 of Set 5 : voi\n",
      "Processing Record 7 of Set 5 : shingu\n",
      "Processing Record 8 of Set 5 : bukama\n",
      "Processing Record 9 of Set 5 : lucapa\n",
      "Processing Record 10 of Set 5 : pevek\n",
      "Processing Record 11 of Set 5 : lebu\n",
      "Processing Record 12 of Set 5 : empangeni\n",
      "Processing Record 13 of Set 5 : tuckahoe\n",
      "Processing Record 14 of Set 5 : port hardy\n",
      "Processing Record 15 of Set 5 : yuxia\n",
      "Processing Record 16 of Set 5 : luderitz\n",
      "Processing Record 17 of Set 5 : xai-xai\n",
      "Processing Record 18 of Set 5 : bethel\n",
      "Processing Record 19 of Set 5 : lorengau\n",
      "Processing Record 20 of Set 5 : namibe\n",
      "City not found. Skipping...\n",
      "Processing Record 21 of Set 5 : nikolskoye\n",
      "Processing Record 22 of Set 5 : le lorrain\n",
      "Processing Record 23 of Set 5 : saint anthony\n",
      "Processing Record 24 of Set 5 : tombouctou\n",
      "Processing Record 25 of Set 5 : qaqortoq\n",
      "Processing Record 26 of Set 5 : ayagoz\n",
      "Processing Record 27 of Set 5 : torata\n",
      "Processing Record 28 of Set 5 : hobyo\n",
      "Processing Record 29 of Set 5 : lasa\n",
      "Processing Record 30 of Set 5 : taoudenni\n",
      "Processing Record 31 of Set 5 : tirumala\n",
      "Processing Record 32 of Set 5 : cozumel\n",
      "Processing Record 33 of Set 5 : souillac\n",
      "Processing Record 34 of Set 5 : torbay\n",
      "City not found. Skipping...\n",
      "Processing Record 35 of Set 5 : nang rong\n",
      "Processing Record 36 of Set 5 : biak\n",
      "Processing Record 37 of Set 5 : victoria\n",
      "Processing Record 38 of Set 5 : fortuna\n",
      "Processing Record 39 of Set 5 : lubango\n",
      "Processing Record 40 of Set 5 : maturin\n",
      "Processing Record 41 of Set 5 : jacareacanga\n",
      "Processing Record 42 of Set 5 : bocas del toro\n",
      "City not found. Skipping...\n",
      "Processing Record 43 of Set 5 : porto novo\n",
      "Processing Record 44 of Set 5 : jinchang\n",
      "Processing Record 45 of Set 5 : shieli\n",
      "Processing Record 46 of Set 5 : khorixas\n",
      "Processing Record 47 of Set 5 : harper\n",
      "Processing Record 48 of Set 5 : marawi\n",
      "Processing Record 49 of Set 5 : tura\n",
      "Processing Record 50 of Set 5 : behshahr\n",
      "Processing Record 0 of Set 6 : kalabo\n",
      "Processing Record 1 of Set 6 : chuzhou\n",
      "Processing Record 2 of Set 6 : zonguldak\n",
      "Processing Record 3 of Set 6 : arman\n",
      "City not found. Skipping...\n",
      "Processing Record 4 of Set 6 : normandin\n",
      "Processing Record 5 of Set 6 : yumen\n",
      "Processing Record 6 of Set 6 : ayan\n",
      "Processing Record 7 of Set 6 : tovuz\n",
      "Processing Record 8 of Set 6 : yar-sale\n",
      "Processing Record 9 of Set 6 : husavik\n",
      "Processing Record 10 of Set 6 : imphal\n",
      "City not found. Skipping...\n",
      "Processing Record 11 of Set 6 : bud\n",
      "Processing Record 12 of Set 6 : joao pinheiro\n",
      "Processing Record 13 of Set 6 : igrim\n",
      "Processing Record 14 of Set 6 : seddon\n",
      "Processing Record 15 of Set 6 : faanui\n",
      "Processing Record 16 of Set 6 : bathsheba\n",
      "Processing Record 17 of Set 6 : tuatapere\n",
      "Processing Record 18 of Set 6 : bosaso\n",
      "Processing Record 19 of Set 6 : elizabeth city\n",
      "Processing Record 20 of Set 6 : dehloran\n",
      "Processing Record 21 of Set 6 : los llanos de aridane\n",
      "Processing Record 22 of Set 6 : mount gambier\n",
      "Processing Record 23 of Set 6 : kambove\n",
      "Processing Record 24 of Set 6 : shubarshi\n",
      "Processing Record 25 of Set 6 : esenyurt\n",
      "Processing Record 26 of Set 6 : ningxiang\n",
      "Processing Record 27 of Set 6 : yeppoon\n",
      "Processing Record 28 of Set 6 : kieta\n",
      "Processing Record 29 of Set 6 : alcudia\n",
      "City not found. Skipping...\n",
      "Processing Record 30 of Set 6 : kaitangata\n",
      "Processing Record 31 of Set 6 : chicama\n",
      "Processing Record 32 of Set 6 : hurghada\n",
      "City not found. Skipping...\n",
      "Processing Record 33 of Set 6 : tual\n",
      "Processing Record 34 of Set 6 : rosarito\n",
      "Processing Record 35 of Set 6 : novaya bryan\n",
      "Processing Record 36 of Set 6 : tanout\n",
      "Processing Record 37 of Set 6 : cururupu\n",
      "Processing Record 38 of Set 6 : slave lake\n",
      "Processing Record 39 of Set 6 : atar\n",
      "Processing Record 40 of Set 6 : airai\n",
      "Processing Record 41 of Set 6 : cherskiy\n",
      "Processing Record 42 of Set 6 : matamoros\n",
      "Processing Record 43 of Set 6 : jacqueville\n",
      "Processing Record 44 of Set 6 : monduli\n",
      "Processing Record 45 of Set 6 : manali\n",
      "Processing Record 46 of Set 6 : paducah\n",
      "Processing Record 47 of Set 6 : sabang\n",
      "Processing Record 48 of Set 6 : olavarria\n",
      "Processing Record 49 of Set 6 : igarka\n",
      "Processing Record 50 of Set 6 : mugla\n",
      "Processing Record 0 of Set 7 : jaszapati\n",
      "Processing Record 1 of Set 7 : livingston\n",
      "Processing Record 2 of Set 7 : sao filipe\n",
      "Processing Record 3 of Set 7 : sembakung\n",
      "Processing Record 4 of Set 7 : ixtapa\n",
      "Processing Record 5 of Set 7 : radcliff\n",
      "Processing Record 6 of Set 7 : wynyard\n",
      "Processing Record 7 of Set 7 : santa vitoria do palmar\n",
      "Processing Record 8 of Set 7 : ust-nera\n",
      "Processing Record 9 of Set 7 : sioux lookout\n",
      "Processing Record 10 of Set 7 : haines junction\n",
      "Processing Record 11 of Set 7 : inzer\n",
      "City not found. Skipping...\n",
      "Processing Record 12 of Set 7 : yakima\n",
      "Processing Record 13 of Set 7 : tarko-sale\n",
      "Processing Record 14 of Set 7 : rognan\n",
      "Processing Record 15 of Set 7 : high rock\n",
      "Processing Record 16 of Set 7 : dunedin\n",
      "Processing Record 17 of Set 7 : ampanihy\n",
      "Processing Record 18 of Set 7 : deputatskiy\n",
      "Processing Record 19 of Set 7 : bani walid\n",
      "Processing Record 20 of Set 7 : lishui\n",
      "Processing Record 21 of Set 7 : xuddur\n",
      "Processing Record 22 of Set 7 : pietersburg\n",
      "Processing Record 23 of Set 7 : demmin\n",
      "Processing Record 24 of Set 7 : leesburg\n",
      "Processing Record 25 of Set 7 : mogadishu\n",
      "Processing Record 26 of Set 7 : alta gracia\n",
      "Processing Record 27 of Set 7 : kaliua\n",
      "Processing Record 28 of Set 7 : peniche\n",
      "Processing Record 29 of Set 7 : roebourne\n",
      "Processing Record 30 of Set 7 : djambala\n",
      "Processing Record 31 of Set 7 : kudat\n",
      "Processing Record 32 of Set 7 : nadadores\n",
      "Processing Record 33 of Set 7 : vardo\n",
      "Processing Record 34 of Set 7 : tevriz\n",
      "Processing Record 35 of Set 7 : kidal\n",
      "Processing Record 36 of Set 7 : nome\n",
      "Processing Record 37 of Set 7 : kandrian\n",
      "Processing Record 38 of Set 7 : roald\n",
      "Processing Record 39 of Set 7 : nefteyugansk\n",
      "Processing Record 40 of Set 7 : geraldton\n",
      "City not found. Skipping...\n",
      "Processing Record 41 of Set 7 : srednekolymsk\n",
      "Processing Record 42 of Set 7 : kurumkan\n",
      "Processing Record 43 of Set 7 : bambous virieux\n",
      "Processing Record 44 of Set 7 : kokoda\n",
      "Processing Record 45 of Set 7 : blessington\n",
      "Processing Record 46 of Set 7 : dakar\n",
      "Processing Record 47 of Set 7 : dikson\n",
      "Processing Record 48 of Set 7 : sinnamary\n",
      "City not found. Skipping...\n",
      "Processing Record 49 of Set 7 : vila franca do campo\n",
      "Processing Record 50 of Set 7 : touros\n",
      "Processing Record 0 of Set 8 : acarau\n",
      "Processing Record 1 of Set 8 : sorland\n",
      "Processing Record 2 of Set 8 : barcelos\n",
      "Processing Record 3 of Set 8 : aizkraukle\n",
      "Processing Record 4 of Set 8 : omaruru\n",
      "Processing Record 5 of Set 8 : yulara\n",
      "Processing Record 6 of Set 8 : luba\n",
      "Processing Record 7 of Set 8 : micheweni\n",
      "Processing Record 8 of Set 8 : fort nelson\n",
      "Processing Record 9 of Set 8 : labuhan\n",
      "Processing Record 10 of Set 8 : college\n",
      "Processing Record 11 of Set 8 : hami\n",
      "Processing Record 12 of Set 8 : nago\n",
      "Processing Record 13 of Set 8 : castro\n",
      "Processing Record 14 of Set 8 : teahupoo\n",
      "Processing Record 15 of Set 8 : casa nova\n",
      "Processing Record 16 of Set 8 : tirthahalli\n",
      "Processing Record 17 of Set 8 : codrington\n",
      "Processing Record 18 of Set 8 : hadejia\n",
      "Processing Record 19 of Set 8 : kivertsi\n",
      "Processing Record 20 of Set 8 : owando\n",
      "Processing Record 21 of Set 8 : burnie\n"
     ]
    },
    {
     "name": "stdout",
     "output_type": "stream",
     "text": [
      "Processing Record 22 of Set 8 : nha trang\n",
      "Processing Record 23 of Set 8 : santander jimenez\n",
      "Processing Record 24 of Set 8 : fallon\n",
      "Processing Record 25 of Set 8 : lima\n",
      "City not found. Skipping...\n",
      "Processing Record 26 of Set 8 : riverton\n",
      "Processing Record 27 of Set 8 : adrar\n",
      "City not found. Skipping...\n",
      "City not found. Skipping...\n",
      "Processing Record 28 of Set 8 : oktyabrskiy\n",
      "Processing Record 29 of Set 8 : mabaruma\n",
      "Processing Record 30 of Set 8 : olinda\n",
      "Processing Record 31 of Set 8 : khandyga\n",
      "Processing Record 32 of Set 8 : belmonte\n",
      "Processing Record 33 of Set 8 : vaitape\n",
      "Processing Record 34 of Set 8 : grindavik\n",
      "Processing Record 35 of Set 8 : auki\n",
      "Processing Record 36 of Set 8 : dingle\n",
      "Processing Record 37 of Set 8 : dickinson\n",
      "Processing Record 38 of Set 8 : puerto escondido\n",
      "Processing Record 39 of Set 8 : praia\n",
      "City not found. Skipping...\n",
      "Processing Record 40 of Set 8 : saint marys\n",
      "Processing Record 41 of Set 8 : saint-georges\n",
      "Processing Record 42 of Set 8 : jumla\n",
      "Processing Record 43 of Set 8 : imbituba\n",
      "Processing Record 44 of Set 8 : te anau\n",
      "Processing Record 45 of Set 8 : ambovombe\n",
      "Processing Record 46 of Set 8 : lashio\n",
      "Processing Record 47 of Set 8 : melipilla\n",
      "Processing Record 48 of Set 8 : castres\n",
      "Processing Record 49 of Set 8 : bauta\n",
      "Processing Record 50 of Set 8 : oussouye\n",
      "City not found. Skipping...\n",
      "Processing Record 0 of Set 9 : yenagoa\n",
      "Processing Record 1 of Set 9 : iqaluit\n",
      "Processing Record 2 of Set 9 : great falls\n",
      "Processing Record 3 of Set 9 : puerto colombia\n",
      "Processing Record 4 of Set 9 : rumoi\n",
      "City not found. Skipping...\n",
      "Processing Record 5 of Set 9 : avera\n",
      "Processing Record 6 of Set 9 : karpathos\n",
      "Processing Record 7 of Set 9 : kyra\n",
      "Processing Record 8 of Set 9 : ballina\n",
      "Processing Record 9 of Set 9 : port macquarie\n",
      "Processing Record 10 of Set 9 : jambi\n",
      "City not found. Skipping...\n",
      "Processing Record 11 of Set 9 : roma\n",
      "Processing Record 12 of Set 9 : bambanglipuro\n",
      "Processing Record 13 of Set 9 : zaysan\n",
      "Processing Record 14 of Set 9 : ushtobe\n",
      "Processing Record 15 of Set 9 : sabha\n",
      "City not found. Skipping...\n",
      "Processing Record 16 of Set 9 : nuuk\n",
      "Processing Record 17 of Set 9 : batemans bay\n",
      "Processing Record 18 of Set 9 : la spezia\n",
      "Processing Record 19 of Set 9 : asau\n",
      "Processing Record 20 of Set 9 : izhma\n",
      "Processing Record 21 of Set 9 : iralaya\n",
      "Processing Record 22 of Set 9 : kafanchan\n",
      "Processing Record 23 of Set 9 : seoul\n",
      "Processing Record 24 of Set 9 : minsk mazowiecki\n",
      "Processing Record 25 of Set 9 : mulatupo\n",
      "Processing Record 26 of Set 9 : broome\n",
      "City not found. Skipping...\n",
      "Processing Record 27 of Set 9 : general elizardo aquino\n",
      "Processing Record 28 of Set 9 : alice springs\n",
      "Processing Record 29 of Set 9 : quatre cocos\n",
      "Processing Record 30 of Set 9 : idlib\n",
      "Processing Record 31 of Set 9 : lavrentiya\n",
      "Processing Record 32 of Set 9 : road town\n",
      "Processing Record 33 of Set 9 : bac lieu\n",
      "Processing Record 34 of Set 9 : kurilsk\n",
      "Processing Record 35 of Set 9 : blairmore\n",
      "Processing Record 36 of Set 9 : umba\n",
      "City not found. Skipping...\n",
      "Processing Record 37 of Set 9 : pangai\n",
      "Processing Record 38 of Set 9 : fare\n",
      "Processing Record 39 of Set 9 : mount isa\n",
      "Processing Record 40 of Set 9 : mayumba\n",
      "Processing Record 41 of Set 9 : snyder\n",
      "Processing Record 42 of Set 9 : baykit\n",
      "Processing Record 43 of Set 9 : horsham\n",
      "Processing Record 44 of Set 9 : amalapuram\n",
      "Processing Record 45 of Set 9 : krymsk\n",
      "Processing Record 46 of Set 9 : vostok\n",
      "Processing Record 47 of Set 9 : chalus\n",
      "Processing Record 48 of Set 9 : saint-pierre\n",
      "Processing Record 49 of Set 9 : port moresby\n",
      "Processing Record 50 of Set 9 : saskylakh\n",
      "Processing Record 0 of Set 10 : kalemie\n",
      "Processing Record 1 of Set 10 : bagdarin\n",
      "Processing Record 2 of Set 10 : villarrica\n",
      "Processing Record 3 of Set 10 : kouango\n",
      "Processing Record 4 of Set 10 : bowen\n",
      "Processing Record 5 of Set 10 : west bay\n",
      "Processing Record 6 of Set 10 : oda\n",
      "Processing Record 7 of Set 10 : preobrazheniye\n",
      "Processing Record 8 of Set 10 : vila velha\n",
      "Processing Record 9 of Set 10 : maniitsoq\n",
      "City not found. Skipping...\n",
      "Processing Record 10 of Set 10 : ostersund\n",
      "Processing Record 11 of Set 10 : agadez\n",
      "City not found. Skipping...\n",
      "Processing Record 12 of Set 10 : elmira\n",
      "Processing Record 13 of Set 10 : kamenka\n",
      "Processing Record 14 of Set 10 : talnakh\n",
      "Processing Record 15 of Set 10 : mauganj\n",
      "Processing Record 16 of Set 10 : moindou\n",
      "Processing Record 17 of Set 10 : nemuro\n",
      "Processing Record 18 of Set 10 : bandundu\n",
      "Processing Record 19 of Set 10 : korla\n",
      "Processing Record 20 of Set 10 : batagay\n",
      "Processing Record 21 of Set 10 : cabo san lucas\n",
      "Processing Record 22 of Set 10 : sorada\n",
      "Processing Record 23 of Set 10 : acari\n",
      "Processing Record 24 of Set 10 : tianpeng\n",
      "Processing Record 25 of Set 10 : samarai\n",
      "Processing Record 26 of Set 10 : skjervoy\n",
      "Processing Record 27 of Set 10 : puerto leguizamo\n",
      "Processing Record 28 of Set 10 : kosonsoy\n",
      "Processing Record 29 of Set 10 : bhayavadar\n",
      "Processing Record 30 of Set 10 : suda\n",
      "Processing Record 31 of Set 10 : beira\n",
      "Processing Record 32 of Set 10 : kathu\n",
      "Processing Record 33 of Set 10 : denpasar\n",
      "Processing Record 34 of Set 10 : upington\n",
      "Processing Record 35 of Set 10 : kichera\n",
      "Processing Record 36 of Set 10 : bulawayo\n",
      "Processing Record 37 of Set 10 : nouakchott\n",
      "Processing Record 38 of Set 10 : poum\n",
      "Processing Record 39 of Set 10 : ostrovnoy\n",
      "Processing Record 40 of Set 10 : khalkhal\n",
      "Processing Record 41 of Set 10 : bam\n",
      "Processing Record 42 of Set 10 : montevideo\n",
      "Processing Record 43 of Set 10 : boddam\n",
      "Processing Record 44 of Set 10 : san jeronimo\n",
      "Processing Record 45 of Set 10 : saint-augustin\n",
      "Processing Record 46 of Set 10 : luganville\n",
      "Processing Record 47 of Set 10 : raton\n",
      "Processing Record 48 of Set 10 : diffa\n",
      "Processing Record 49 of Set 10 : kirakira\n",
      "Processing Record 50 of Set 10 : talara\n",
      "Processing Record 0 of Set 11 : klaksvik\n",
      "Processing Record 1 of Set 11 : kez\n",
      "Processing Record 2 of Set 11 : shiyan\n",
      "Processing Record 3 of Set 11 : jiupu\n",
      "Processing Record 4 of Set 11 : richards bay\n",
      "Processing Record 5 of Set 11 : cap malheureux\n",
      "Processing Record 6 of Set 11 : plaine magnien\n",
      "Processing Record 7 of Set 11 : cedar city\n",
      "Processing Record 8 of Set 11 : popondetta\n",
      "Processing Record 9 of Set 11 : puerto narino\n",
      "Processing Record 10 of Set 11 : grand-santi\n",
      "City not found. Skipping...\n",
      "City not found. Skipping...\n",
      "Processing Record 11 of Set 11 : basco\n",
      "Processing Record 12 of Set 11 : san andres\n",
      "Processing Record 13 of Set 11 : aasiaat\n",
      "City not found. Skipping...\n",
      "City not found. Skipping...\n",
      "Processing Record 14 of Set 11 : maldonado\n",
      "Processing Record 15 of Set 11 : gillette\n",
      "Processing Record 16 of Set 11 : chateaudun\n",
      "Processing Record 17 of Set 11 : nicolet\n",
      "Processing Record 18 of Set 11 : iowa city\n",
      "Processing Record 19 of Set 11 : knysna\n",
      "Processing Record 20 of Set 11 : mareeba\n",
      "Processing Record 21 of Set 11 : ishinomaki\n",
      "Processing Record 22 of Set 11 : ahipara\n",
      "Processing Record 23 of Set 11 : ulaanbaatar\n",
      "Processing Record 24 of Set 11 : vinh long\n",
      "Processing Record 25 of Set 11 : macheng\n",
      "Processing Record 26 of Set 11 : turukhansk\n",
      "Processing Record 27 of Set 11 : cockburn town\n",
      "Processing Record 28 of Set 11 : santa cruz\n",
      "Processing Record 29 of Set 11 : tchollire\n",
      "Processing Record 30 of Set 11 : bow island\n",
      "Processing Record 31 of Set 11 : siemiatycze\n",
      "Processing Record 32 of Set 11 : abonnema\n",
      "Processing Record 33 of Set 11 : flagstaff\n",
      "Processing Record 34 of Set 11 : buraydah\n",
      "Processing Record 35 of Set 11 : preeceville\n",
      "Processing Record 36 of Set 11 : muros\n",
      "Processing Record 37 of Set 11 : mariinsk\n",
      "Processing Record 38 of Set 11 : anchorage\n",
      "Processing Record 39 of Set 11 : nishihara\n",
      "Processing Record 40 of Set 11 : santa rosa\n",
      "Processing Record 41 of Set 11 : jalu\n",
      "Processing Record 42 of Set 11 : concordia\n",
      "Processing Record 43 of Set 11 : hovd\n",
      "Processing Record 44 of Set 11 : anloga\n",
      "Processing Record 45 of Set 11 : anadyr\n",
      "Processing Record 46 of Set 11 : berlevag\n",
      "Processing Record 47 of Set 11 : vanavara\n",
      "Processing Record 48 of Set 11 : beisfjord\n",
      "Processing Record 49 of Set 11 : anzio\n",
      "Processing Record 50 of Set 11 : ust-uda\n",
      "Processing Record 0 of Set 12 : zhanaozen\n",
      "Processing Record 1 of Set 12 : havre-saint-pierre\n",
      "Processing Record 2 of Set 12 : borgo san lorenzo\n",
      "Processing Record 3 of Set 12 : rio gallegos\n",
      "Processing Record 4 of Set 12 : teya\n"
     ]
    },
    {
     "name": "stdout",
     "output_type": "stream",
     "text": [
      "Processing Record 5 of Set 12 : malindi\n",
      "-----------------------------\n",
      "Data Retrieval Complete\n"
     ]
    }
   ],
   "source": [
    "print(\"Start of Data Retrieval \")\n",
    "\n",
    "base_url = \"http://api.openweathermap.org/data/2.5/weather?\"\n",
    "units = \"imperial\"\n",
    "query_url = f\"{base_url}appid={weather_api_key}&units={units}&q=\"\n",
    "\n",
    "\n",
    "#Create for loop to gather information and store it in empty lists created above\n",
    "for index, city in enumerate(cities, start = 1):\n",
    "    try:\n",
    "        response = requests.get(query_url + city).json()\n",
    "        cities_list.append(response[\"name\"])\n",
    "        latitude.append(response[\"coord\"][\"lat\"])\n",
    "        longitude.append(response[\"coord\"][\"lon\"])\n",
    "        max_temp.append(response['main']['temp_max'])\n",
    "        humidity.append(response[\"main\"][\"humidity\"])\n",
    "        clouds.append(response[\"clouds\"][\"all\"])\n",
    "        wind_speed.append(response[\"wind\"][\"speed\"])\n",
    "        country.append(response[\"sys\"][\"country\"])\n",
    "        date.append(response[\"dt\"])\n",
    "        \n",
    "        if index_counter > 49:\n",
    "            index_counter = 0\n",
    "            set_counter = set_counter + 1\n",
    "    \n",
    "        else:\n",
    "            index_counter = index_counter + 1\n",
    "            \n",
    "        print(f\"Processing Record {index_counter} of Set {set_counter} : {city}\") \n",
    "  \n",
    "    except(KeyError, IndexError):\n",
    "        print(\"City not found. Skipping...\")\n",
    "\n",
    "print(\"-----------------------------\")\n",
    "print(\"Data Retrieval Complete\")"
   ]
  },
  {
   "cell_type": "markdown",
   "metadata": {},
   "source": [
    "### Convert Raw Data to DataFrame\n",
    "* Export the city data into a .csv.\n",
    "* Display the DataFrame"
   ]
  },
  {
   "cell_type": "code",
   "execution_count": 6,
   "metadata": {},
   "outputs": [
    {
     "data": {
      "text/html": [
       "<div>\n",
       "<style scoped>\n",
       "    .dataframe tbody tr th:only-of-type {\n",
       "        vertical-align: middle;\n",
       "    }\n",
       "\n",
       "    .dataframe tbody tr th {\n",
       "        vertical-align: top;\n",
       "    }\n",
       "\n",
       "    .dataframe thead th {\n",
       "        text-align: right;\n",
       "    }\n",
       "</style>\n",
       "<table border=\"1\" class=\"dataframe\">\n",
       "  <thead>\n",
       "    <tr style=\"text-align: right;\">\n",
       "      <th></th>\n",
       "      <th>City</th>\n",
       "      <th>Latitude</th>\n",
       "      <th>Longitude</th>\n",
       "      <th>Max Temperature</th>\n",
       "      <th>Humidity</th>\n",
       "      <th>Cloudiness</th>\n",
       "      <th>Wind Speed</th>\n",
       "      <th>Country</th>\n",
       "      <th>Date</th>\n",
       "    </tr>\n",
       "  </thead>\n",
       "  <tbody>\n",
       "    <tr>\n",
       "      <th>0</th>\n",
       "      <td>Arrondissement de Verdun</td>\n",
       "      <td>49.2500</td>\n",
       "      <td>5.3333</td>\n",
       "      <td>48.69</td>\n",
       "      <td>96</td>\n",
       "      <td>100</td>\n",
       "      <td>12.73</td>\n",
       "      <td>FR</td>\n",
       "      <td>1645161717</td>\n",
       "    </tr>\n",
       "    <tr>\n",
       "      <th>1</th>\n",
       "      <td>Punta Arenas</td>\n",
       "      <td>-53.1500</td>\n",
       "      <td>-70.9167</td>\n",
       "      <td>53.71</td>\n",
       "      <td>76</td>\n",
       "      <td>75</td>\n",
       "      <td>5.75</td>\n",
       "      <td>CL</td>\n",
       "      <td>1645161718</td>\n",
       "    </tr>\n",
       "    <tr>\n",
       "      <th>2</th>\n",
       "      <td>Bereda</td>\n",
       "      <td>43.2686</td>\n",
       "      <td>-7.5406</td>\n",
       "      <td>54.00</td>\n",
       "      <td>97</td>\n",
       "      <td>63</td>\n",
       "      <td>8.32</td>\n",
       "      <td>ES</td>\n",
       "      <td>1645161718</td>\n",
       "    </tr>\n",
       "    <tr>\n",
       "      <th>3</th>\n",
       "      <td>Jamestown</td>\n",
       "      <td>42.0970</td>\n",
       "      <td>-79.2353</td>\n",
       "      <td>33.30</td>\n",
       "      <td>70</td>\n",
       "      <td>100</td>\n",
       "      <td>20.71</td>\n",
       "      <td>US</td>\n",
       "      <td>1645161488</td>\n",
       "    </tr>\n",
       "    <tr>\n",
       "      <th>4</th>\n",
       "      <td>Ushuaia</td>\n",
       "      <td>-54.8000</td>\n",
       "      <td>-68.3000</td>\n",
       "      <td>49.66</td>\n",
       "      <td>71</td>\n",
       "      <td>20</td>\n",
       "      <td>19.57</td>\n",
       "      <td>AR</td>\n",
       "      <td>1645161489</td>\n",
       "    </tr>\n",
       "    <tr>\n",
       "      <th>...</th>\n",
       "      <td>...</td>\n",
       "      <td>...</td>\n",
       "      <td>...</td>\n",
       "      <td>...</td>\n",
       "      <td>...</td>\n",
       "      <td>...</td>\n",
       "      <td>...</td>\n",
       "      <td>...</td>\n",
       "      <td>...</td>\n",
       "    </tr>\n",
       "    <tr>\n",
       "      <th>561</th>\n",
       "      <td>Havre-St-Pierre</td>\n",
       "      <td>50.2334</td>\n",
       "      <td>-63.5986</td>\n",
       "      <td>27.19</td>\n",
       "      <td>86</td>\n",
       "      <td>100</td>\n",
       "      <td>14.97</td>\n",
       "      <td>CA</td>\n",
       "      <td>1645161994</td>\n",
       "    </tr>\n",
       "    <tr>\n",
       "      <th>562</th>\n",
       "      <td>Borgo San Lorenzo</td>\n",
       "      <td>43.9553</td>\n",
       "      <td>11.3835</td>\n",
       "      <td>48.76</td>\n",
       "      <td>93</td>\n",
       "      <td>43</td>\n",
       "      <td>1.59</td>\n",
       "      <td>IT</td>\n",
       "      <td>1645161995</td>\n",
       "    </tr>\n",
       "    <tr>\n",
       "      <th>563</th>\n",
       "      <td>Río Gallegos</td>\n",
       "      <td>-51.6226</td>\n",
       "      <td>-69.2181</td>\n",
       "      <td>55.45</td>\n",
       "      <td>76</td>\n",
       "      <td>0</td>\n",
       "      <td>3.44</td>\n",
       "      <td>AR</td>\n",
       "      <td>1645161995</td>\n",
       "    </tr>\n",
       "    <tr>\n",
       "      <th>564</th>\n",
       "      <td>Teya</td>\n",
       "      <td>60.3778</td>\n",
       "      <td>92.6267</td>\n",
       "      <td>10.13</td>\n",
       "      <td>87</td>\n",
       "      <td>100</td>\n",
       "      <td>6.60</td>\n",
       "      <td>RU</td>\n",
       "      <td>1645161996</td>\n",
       "    </tr>\n",
       "    <tr>\n",
       "      <th>565</th>\n",
       "      <td>Malindi</td>\n",
       "      <td>-3.2175</td>\n",
       "      <td>40.1191</td>\n",
       "      <td>80.76</td>\n",
       "      <td>83</td>\n",
       "      <td>40</td>\n",
       "      <td>0.00</td>\n",
       "      <td>KE</td>\n",
       "      <td>1645161997</td>\n",
       "    </tr>\n",
       "  </tbody>\n",
       "</table>\n",
       "<p>566 rows × 9 columns</p>\n",
       "</div>"
      ],
      "text/plain": [
       "                         City  Latitude  Longitude  Max Temperature  Humidity  \\\n",
       "0    Arrondissement de Verdun   49.2500     5.3333            48.69        96   \n",
       "1                Punta Arenas  -53.1500   -70.9167            53.71        76   \n",
       "2                      Bereda   43.2686    -7.5406            54.00        97   \n",
       "3                   Jamestown   42.0970   -79.2353            33.30        70   \n",
       "4                     Ushuaia  -54.8000   -68.3000            49.66        71   \n",
       "..                        ...       ...        ...              ...       ...   \n",
       "561           Havre-St-Pierre   50.2334   -63.5986            27.19        86   \n",
       "562         Borgo San Lorenzo   43.9553    11.3835            48.76        93   \n",
       "563              Río Gallegos  -51.6226   -69.2181            55.45        76   \n",
       "564                      Teya   60.3778    92.6267            10.13        87   \n",
       "565                   Malindi   -3.2175    40.1191            80.76        83   \n",
       "\n",
       "     Cloudiness  Wind Speed Country        Date  \n",
       "0           100       12.73      FR  1645161717  \n",
       "1            75        5.75      CL  1645161718  \n",
       "2            63        8.32      ES  1645161718  \n",
       "3           100       20.71      US  1645161488  \n",
       "4            20       19.57      AR  1645161489  \n",
       "..          ...         ...     ...         ...  \n",
       "561         100       14.97      CA  1645161994  \n",
       "562          43        1.59      IT  1645161995  \n",
       "563           0        3.44      AR  1645161995  \n",
       "564         100        6.60      RU  1645161996  \n",
       "565          40        0.00      KE  1645161997  \n",
       "\n",
       "[566 rows x 9 columns]"
      ]
     },
     "execution_count": 6,
     "metadata": {},
     "output_type": "execute_result"
    }
   ],
   "source": [
    "#Create DataFrame\n",
    "weather_info = pd.DataFrame ({\n",
    "    \"City\" : cities_list,\n",
    "    \"Latitude\": latitude,\n",
    "    \"Longitude\" : longitude,\n",
    "    \"Max Temperature\": max_temp,\n",
    "    \"Humidity\": humidity,\n",
    "    \"Cloudiness\": clouds,\n",
    "    \"Wind Speed\": wind_speed,\n",
    "    \"Country\": country,\n",
    "    \"Date\": date\n",
    "    \n",
    "    \n",
    "    \n",
    "    \n",
    "})\n",
    "\n",
    "\n",
    "#Display DataFrame\n",
    "weather_info"
   ]
  },
  {
   "cell_type": "code",
   "execution_count": 7,
   "metadata": {},
   "outputs": [],
   "source": [
    "#Export Data as CSV file\n",
    "weather_info.to_csv(\"output_data.csv\", index = False)"
   ]
  },
  {
   "cell_type": "markdown",
   "metadata": {},
   "source": [
    "## Inspect the data and remove the cities where the humidity > 100%.\n",
    "----\n",
    "Skip this step if there are no cities that have humidity > 100%. "
   ]
  },
  {
   "cell_type": "code",
   "execution_count": 17,
   "metadata": {},
   "outputs": [],
   "source": [
    "#Skip"
   ]
  },
  {
   "cell_type": "code",
   "execution_count": 17,
   "metadata": {},
   "outputs": [
    {
     "data": {
      "text/plain": [
       "Int64Index([], dtype='int64')"
      ]
     },
     "execution_count": 17,
     "metadata": {},
     "output_type": "execute_result"
    }
   ],
   "source": [
    "#  Get the indices of cities that have humidity over 100%.\n"
   ]
  },
  {
   "cell_type": "code",
   "execution_count": 19,
   "metadata": {},
   "outputs": [
    {
     "data": {
      "text/html": [
       "<div>\n",
       "<style scoped>\n",
       "    .dataframe tbody tr th:only-of-type {\n",
       "        vertical-align: middle;\n",
       "    }\n",
       "\n",
       "    .dataframe tbody tr th {\n",
       "        vertical-align: top;\n",
       "    }\n",
       "\n",
       "    .dataframe thead th {\n",
       "        text-align: right;\n",
       "    }\n",
       "</style>\n",
       "<table border=\"1\" class=\"dataframe\">\n",
       "  <thead>\n",
       "    <tr style=\"text-align: right;\">\n",
       "      <th></th>\n",
       "      <th>City</th>\n",
       "      <th>Lat</th>\n",
       "      <th>Lng</th>\n",
       "      <th>Max Temp</th>\n",
       "      <th>Humidity</th>\n",
       "      <th>Cloudiness</th>\n",
       "      <th>Wind Speed</th>\n",
       "      <th>Country</th>\n",
       "      <th>Date</th>\n",
       "    </tr>\n",
       "  </thead>\n",
       "  <tbody>\n",
       "    <tr>\n",
       "      <td>0</td>\n",
       "      <td>butaritari</td>\n",
       "      <td>3.07</td>\n",
       "      <td>172.79</td>\n",
       "      <td>83.32</td>\n",
       "      <td>74</td>\n",
       "      <td>84</td>\n",
       "      <td>10.42</td>\n",
       "      <td>KI</td>\n",
       "      <td>1593605283</td>\n",
       "    </tr>\n",
       "    <tr>\n",
       "      <td>1</td>\n",
       "      <td>yerbogachen</td>\n",
       "      <td>61.28</td>\n",
       "      <td>108.01</td>\n",
       "      <td>79.52</td>\n",
       "      <td>58</td>\n",
       "      <td>20</td>\n",
       "      <td>7.70</td>\n",
       "      <td>RU</td>\n",
       "      <td>1593605121</td>\n",
       "    </tr>\n",
       "    <tr>\n",
       "      <td>2</td>\n",
       "      <td>cape town</td>\n",
       "      <td>-33.93</td>\n",
       "      <td>18.42</td>\n",
       "      <td>73.00</td>\n",
       "      <td>77</td>\n",
       "      <td>27</td>\n",
       "      <td>4.70</td>\n",
       "      <td>ZA</td>\n",
       "      <td>1593605039</td>\n",
       "    </tr>\n",
       "    <tr>\n",
       "      <td>3</td>\n",
       "      <td>touba</td>\n",
       "      <td>8.28</td>\n",
       "      <td>-7.68</td>\n",
       "      <td>79.97</td>\n",
       "      <td>75</td>\n",
       "      <td>82</td>\n",
       "      <td>3.58</td>\n",
       "      <td>CI</td>\n",
       "      <td>1593605284</td>\n",
       "    </tr>\n",
       "    <tr>\n",
       "      <td>4</td>\n",
       "      <td>jamestown</td>\n",
       "      <td>42.10</td>\n",
       "      <td>-79.24</td>\n",
       "      <td>64.00</td>\n",
       "      <td>88</td>\n",
       "      <td>1</td>\n",
       "      <td>6.93</td>\n",
       "      <td>US</td>\n",
       "      <td>1593605284</td>\n",
       "    </tr>\n",
       "  </tbody>\n",
       "</table>\n",
       "</div>"
      ],
      "text/plain": [
       "          City    Lat     Lng  Max Temp  Humidity  Cloudiness  Wind Speed  \\\n",
       "0   butaritari   3.07  172.79     83.32        74          84       10.42   \n",
       "1  yerbogachen  61.28  108.01     79.52        58          20        7.70   \n",
       "2    cape town -33.93   18.42     73.00        77          27        4.70   \n",
       "3        touba   8.28   -7.68     79.97        75          82        3.58   \n",
       "4    jamestown  42.10  -79.24     64.00        88           1        6.93   \n",
       "\n",
       "  Country        Date  \n",
       "0      KI  1593605283  \n",
       "1      RU  1593605121  \n",
       "2      ZA  1593605039  \n",
       "3      CI  1593605284  \n",
       "4      US  1593605284  "
      ]
     },
     "execution_count": 19,
     "metadata": {},
     "output_type": "execute_result"
    }
   ],
   "source": [
    "# Make a new DataFrame equal to the city data to drop all humidity outliers by index.\n",
    "# Passing \"inplace=False\" will make a copy of the city_data DataFrame, which we call \"clean_city_data\".\n"
   ]
  },
  {
   "cell_type": "code",
   "execution_count": null,
   "metadata": {},
   "outputs": [],
   "source": [
    "\n"
   ]
  },
  {
   "cell_type": "markdown",
   "metadata": {},
   "source": [
    "## Plotting the Data\n",
    "* Use proper labeling of the plots using plot titles (including date of analysis) and axes labels.\n",
    "* Save the plotted figures as .pngs."
   ]
  },
  {
   "cell_type": "markdown",
   "metadata": {},
   "source": [
    "## Latitude vs. Temperature Plot"
   ]
  },
  {
   "cell_type": "code",
   "execution_count": 19,
   "metadata": {
    "scrolled": true
   },
   "outputs": [
    {
     "data": {
      "image/png": "[encoded data removed]",
      "text/plain": [
       "<Figure size 432x288 with 1 Axes>"
      ]
     },
     "metadata": {
      "needs_background": "light"
     },
     "output_type": "display_data"
    }
   ],
   "source": [
    "#Create Scatterplot\n",
    "plt.scatter(weather_info[\"Latitude\"], weather_info [\"Max Temperature\"], facecolor = \"blue\", edgecolor = \"black\")\n",
    "\n",
    "#Use proper labelling & titles\n",
    "plt.title(\"Latitude vs Temperature Plot\")\n",
    "plt.xlabel(\"Latitude\")\n",
    "plt.ylabel (\"Max Temperature\")\n",
    "plt.grid (linewidth =1, alpha = 0.5)\n",
    "\n",
    "\n",
    "#Save figure as .png\n",
    "plt.savefig(\"Latitude vs Temperature Plot.png\")\n"
   ]
  },
  {
   "cell_type": "code",
   "execution_count": null,
   "metadata": {},
   "outputs": [],
   "source": [
    "#The plot above is looking at latitude vs temperature of specific cities. As seen from the graph, as latitude increases, it looks like max temperature decreases."
   ]
  },
  {
   "cell_type": "markdown",
   "metadata": {},
   "source": [
    "## Latitude vs. Humidity Plot"
   ]
  },
  {
   "cell_type": "code",
   "execution_count": 20,
   "metadata": {},
   "outputs": [
    {
     "data": {
      "image/png": "[encoded data removed]",
      "text/plain": [
       "<Figure size 432x288 with 1 Axes>"
      ]
     },
     "metadata": {
      "needs_background": "light"
     },
     "output_type": "display_data"
    }
   ],
   "source": [
    "#Create Scatterplot\n",
    "plt.scatter(weather_info[\"Latitude\"], weather_info [\"Humidity\"], facecolor = \"yellow\", edgecolor = \"black\")\n",
    "\n",
    "#Use proper labelling & titles\n",
    "plt.title(\"Latitude vs Humidity Plot\")\n",
    "plt.xlabel(\"Latitude\")\n",
    "plt.ylabel (\"Humidity\")\n",
    "plt.grid (linewidth =1, alpha = 0.5)\n",
    "\n",
    "\n",
    "#Save figure as .png\n",
    "plt.savefig(\"Latitude vs Humidity Plot.png\")"
   ]
  },
  {
   "cell_type": "code",
   "execution_count": null,
   "metadata": {},
   "outputs": [],
   "source": [
    "#The graph above looks at the relationship between latitude of the location of a city vs the humidity in that city. Given that the data points are all spread out, it is harder to find a correlation between these two variables."
   ]
  },
  {
   "cell_type": "markdown",
   "metadata": {},
   "source": [
    "## Latitude vs. Cloudiness Plot"
   ]
  },
  {
   "cell_type": "code",
   "execution_count": 21,
   "metadata": {},
   "outputs": [
    {
     "data": {
      "image/png": "[encoded data removed]",
      "text/plain": [
       "<Figure size 432x288 with 1 Axes>"
      ]
     },
     "metadata": {
      "needs_background": "light"
     },
     "output_type": "display_data"
    }
   ],
   "source": [
    "#Create Scatterplot\n",
    "plt.scatter(weather_info[\"Latitude\"], weather_info [\"Cloudiness\"], facecolor = \"pink\", edgecolor = \"black\")\n",
    "\n",
    "#Use proper labelling & titles\n",
    "plt.title(\"Latitude vs Cloudiness Plot\")\n",
    "plt.xlabel(\"Latitude\")\n",
    "plt.ylabel (\"Cloudiness\")\n",
    "plt.grid (linewidth =1, alpha = 0.5)\n",
    "\n",
    "\n",
    "#Save figure as .png\n",
    "plt.savefig(\"Latitude vs Cloudiness Plot.png\")"
   ]
  },
  {
   "cell_type": "code",
   "execution_count": null,
   "metadata": {},
   "outputs": [],
   "source": [
    "#The graph above analyzes the relationship between latitude of a city's location vs cloudiness in that city. The data points are very scattered and so it is difficult to draw a correlation between these two variables."
   ]
  },
  {
   "cell_type": "markdown",
   "metadata": {},
   "source": [
    "## Latitude vs. Wind Speed Plot"
   ]
  },
  {
   "cell_type": "code",
   "execution_count": 22,
   "metadata": {},
   "outputs": [
    {
     "data": {
      "image/png": "[encoded data removed]",
      "text/plain": [
       "<Figure size 432x288 with 1 Axes>"
      ]
     },
     "metadata": {
      "needs_background": "light"
     },
     "output_type": "display_data"
    }
   ],
   "source": [
    "#Create Scatterplot\n",
    "plt.scatter(weather_info[\"Latitude\"], weather_info [\"Wind Speed\"], facecolor = \"orange\", edgecolor = \"black\")\n",
    "\n",
    "#Use proper labelling & titles\n",
    "plt.title(\"Latitude vs Wind Speed Plot\")\n",
    "plt.xlabel(\"Latitude\")\n",
    "plt.ylabel (\"Wind Speed\")\n",
    "plt.grid (linewidth =1, alpha = 0.5)\n",
    "\n",
    "\n",
    "#Save figure as .png\n",
    "plt.savefig(\"Latitude vs Wind Speed Plot.png\")"
   ]
  },
  {
   "cell_type": "code",
   "execution_count": null,
   "metadata": {},
   "outputs": [],
   "source": [
    "#The graph above shows the relationship between a city's latitude vs the wind speed in that city. Again, the data points are spread out throughout the graph and so it is difficult to draw a correlation between the two variables."
   ]
  },
  {
   "cell_type": "markdown",
   "metadata": {},
   "source": [
    "## Linear Regression"
   ]
  },
  {
   "cell_type": "code",
   "execution_count": 7,
   "metadata": {},
   "outputs": [],
   "source": [
    "#Split up Northern and Souther Hemispheres\n",
    "north_hem = weather_info.loc[weather_info[\"Latitude\"] >=0]\n",
    "south_hem = weather_info.loc[weather_info[\"Latitude\"]<0]"
   ]
  },
  {
   "cell_type": "markdown",
   "metadata": {},
   "source": [
    "####  Northern Hemisphere - Max Temp vs. Latitude Linear Regression"
   ]
  },
  {
   "cell_type": "code",
   "execution_count": 8,
   "metadata": {},
   "outputs": [
    {
     "name": "stdout",
     "output_type": "stream",
     "text": [
      "(-0.8704235729114513, 6.240211229615442e-120)\n"
     ]
    },
    {
     "data": {
      "image/png": "[encoded data removed]",
      "text/plain": [
       "<Figure size 432x288 with 1 Axes>"
      ]
     },
     "metadata": {
      "needs_background": "light"
     },
     "output_type": "display_data"
    }
   ],
   "source": [
    "x= north_hem ['Latitude']\n",
    "y = north_hem ['Max Temperature']\n",
    "correlation = st.pearsonr(x,y)\n",
    "print(correlation)\n",
    "\n",
    "(slope, intercept, rvalue, pvalue, stderr) = linregress(x, y)\n",
    "regress_values = x* slope + intercept\n",
    "line_equation = \"y = \" + str(round(slope,2)) + \"x + \" + str(round(intercept,2))\n",
    "\n",
    "plt.scatter(x,y)\n",
    "plt.plot(x,regress_values, \"r-\")\n",
    "plt.annotate(line_equation, (5,-20), fontsize = 15, color=\"red\")\n",
    "\n",
    "plt.xlabel(\"Latitude\")\n",
    "plt.ylabel (\"Max Temp\")\n",
    "plt.title(\"Northern Hemisphere - Max Temp vs. Latitude\")\n",
    "plt.show()"
   ]
  },
  {
   "cell_type": "code",
   "execution_count": null,
   "metadata": {},
   "outputs": [],
   "source": [
    "#For the Northern Hemisphere, when graphing latitude vs max temperature, it seems like there is a negative correlation. That means that whenever Max temp increases, latitude decreases and vice versa."
   ]
  },
  {
   "cell_type": "markdown",
   "metadata": {},
   "source": [
    "####  Southern Hemisphere - Max Temp vs. Latitude Linear Regression"
   ]
  },
  {
   "cell_type": "code",
   "execution_count": 13,
   "metadata": {},
   "outputs": [
    {
     "name": "stdout",
     "output_type": "stream",
     "text": [
      "(0.3822957266334287, 1.0917252037537935e-07)\n"
     ]
    },
    {
     "data": {
      "image/png": "[encoded data removed]",
      "text/plain": [
       "<Figure size 432x288 with 1 Axes>"
      ]
     },
     "metadata": {
      "needs_background": "light"
     },
     "output_type": "display_data"
    }
   ],
   "source": [
    "x= south_hem ['Latitude']\n",
    "y = south_hem ['Max Temperature']\n",
    "correlation = st.pearsonr(x,y)\n",
    "print(correlation)\n",
    "\n",
    "(slope, intercept, rvalue, pvalue, stderr) = linregress(x, y)\n",
    "regress_values = x* slope + intercept\n",
    "line_equation = \"y = \" + str(round(slope,2)) + \"x + \" + str(round(intercept,2))\n",
    "\n",
    "plt.scatter(x,y)\n",
    "plt.plot(x,regress_values, \"r-\")\n",
    "plt.annotate(line_equation, (-50,100), fontsize = 15, color=\"red\")\n",
    "\n",
    "plt.xlabel(\"Latitude\")\n",
    "plt.ylabel (\"Max Temp\")\n",
    "plt.title(\"Southern Hemisphere - Max Temp vs. Latitude\")\n",
    "plt.show()"
   ]
  },
  {
   "cell_type": "code",
   "execution_count": null,
   "metadata": {},
   "outputs": [],
   "source": [
    "#When looking at the Southern Hemisphere, the correlation is different. It seems like more of a positive correlation - as Latitude increases, so does Max Temperature."
   ]
  },
  {
   "cell_type": "markdown",
   "metadata": {},
   "source": [
    "####  Northern Hemisphere - Humidity (%) vs. Latitude Linear Regression"
   ]
  },
  {
   "cell_type": "code",
   "execution_count": 15,
   "metadata": {},
   "outputs": [
    {
     "name": "stdout",
     "output_type": "stream",
     "text": [
      "(0.38784861371954416, 2.865628469502326e-15)\n"
     ]
    },
    {
     "data": {
      "image/png": "[encoded data removed]",
      "text/plain": [
       "<Figure size 432x288 with 1 Axes>"
      ]
     },
     "metadata": {
      "needs_background": "light"
     },
     "output_type": "display_data"
    }
   ],
   "source": [
    "x= north_hem ['Latitude']\n",
    "y = north_hem ['Humidity']\n",
    "correlation = st.pearsonr(x,y)\n",
    "print(correlation)\n",
    "\n",
    "(slope, intercept, rvalue, pvalue, stderr) = linregress(x, y)\n",
    "regress_values = x* slope + intercept\n",
    "line_equation = \"y = \" + str(round(slope,2)) + \"x + \" + str(round(intercept,2))\n",
    "\n",
    "plt.scatter(x,y)\n",
    "plt.plot(x,regress_values, \"r-\")\n",
    "plt.annotate(line_equation, (60,20), fontsize = 15, color=\"red\")\n",
    "\n",
    "plt.xlabel(\"Latitude\")\n",
    "plt.ylabel (\"Humidity\")\n",
    "plt.title(\"Northern Hemisphere - Humidity vs. Latitude\")\n",
    "plt.show()"
   ]
  },
  {
   "cell_type": "code",
   "execution_count": null,
   "metadata": {},
   "outputs": [],
   "source": [
    "#When looking at Northern Hemisphere data comparing the relationship between Latitude and Humidity, although the correlation does not seem strong, it seems like a positive correlation. When Latitude increases, so does humidity."
   ]
  },
  {
   "cell_type": "markdown",
   "metadata": {},
   "source": [
    "####  Southern Hemisphere - Humidity (%) vs. Latitude Linear Regression"
   ]
  },
  {
   "cell_type": "code",
   "execution_count": 17,
   "metadata": {},
   "outputs": [
    {
     "name": "stdout",
     "output_type": "stream",
     "text": [
      "(0.37299207089118114, 2.326318145038824e-07)\n"
     ]
    },
    {
     "data": {
      "image/png": "[encoded data removed]",
      "text/plain": [
       "<Figure size 432x288 with 1 Axes>"
      ]
     },
     "metadata": {
      "needs_background": "light"
     },
     "output_type": "display_data"
    }
   ],
   "source": [
    "x= south_hem ['Latitude']\n",
    "y = south_hem ['Humidity']\n",
    "correlation = st.pearsonr(x,y)\n",
    "print(correlation)\n",
    "\n",
    "(slope, intercept, rvalue, pvalue, stderr) = linregress(x, y)\n",
    "regress_values = x* slope + intercept\n",
    "line_equation = \"y = \" + str(round(slope,2)) + \"x + \" + str(round(intercept,2))\n",
    "\n",
    "plt.scatter(x,y)\n",
    "plt.plot(x,regress_values, \"r-\")\n",
    "plt.annotate(line_equation, (-20,20), fontsize = 15, color=\"red\")\n",
    "\n",
    "plt.xlabel(\"Latitude\")\n",
    "plt.ylabel (\"Humidity\")\n",
    "plt.title(\"Southern Hemisphere - Humidity vs. Latitude\")\n",
    "plt.show()"
   ]
  },
  {
   "cell_type": "code",
   "execution_count": null,
   "metadata": {},
   "outputs": [],
   "source": [
    "#When looking at Southern Hemisphere data comparing the relationship between Latitude and Humidity, although the correlation does not seem strong, it seems like a positive correlation as well. When Latitude increases, so does humidity."
   ]
  },
  {
   "cell_type": "markdown",
   "metadata": {},
   "source": [
    "####  Northern Hemisphere - Cloudiness (%) vs. Latitude Linear Regression"
   ]
  },
  {
   "cell_type": "code",
   "execution_count": 18,
   "metadata": {},
   "outputs": [
    {
     "name": "stdout",
     "output_type": "stream",
     "text": [
      "(0.29452856318982734, 3.827897544948125e-09)\n"
     ]
    },
    {
     "data": {
      "image/png": "[encoded data removed]",
      "text/plain": [
       "<Figure size 432x288 with 1 Axes>"
      ]
     },
     "metadata": {
      "needs_background": "light"
     },
     "output_type": "display_data"
    }
   ],
   "source": [
    "x= north_hem ['Latitude']\n",
    "y = north_hem ['Cloudiness']\n",
    "correlation = st.pearsonr(x,y)\n",
    "print(correlation)\n",
    "\n",
    "(slope, intercept, rvalue, pvalue, stderr) = linregress(x, y)\n",
    "regress_values = x* slope + intercept\n",
    "line_equation = \"y = \" + str(round(slope,2)) + \"x + \" + str(round(intercept,2))\n",
    "\n",
    "plt.scatter(x,y)\n",
    "plt.plot(x,regress_values, \"r-\")\n",
    "plt.annotate(line_equation, (60,20), fontsize = 15, color=\"red\")\n",
    "\n",
    "plt.xlabel(\"Latitude\")\n",
    "plt.ylabel (\"Cloudiness\")\n",
    "plt.title(\"Northern Hemisphere - Cloudiness vs. Latitude\")\n",
    "plt.show()"
   ]
  },
  {
   "cell_type": "code",
   "execution_count": null,
   "metadata": {},
   "outputs": [],
   "source": [
    "#When looking at the relationship between cloudiness and latitude in the northern hemisphere, although the data is very spread out, there seems to be a positive correlation. In other words, when the latitude increases, so does cloudiness. "
   ]
  },
  {
   "cell_type": "markdown",
   "metadata": {},
   "source": [
    "####  Southern Hemisphere - Cloudiness (%) vs. Latitude Linear Regression"
   ]
  },
  {
   "cell_type": "code",
   "execution_count": 20,
   "metadata": {},
   "outputs": [
    {
     "name": "stdout",
     "output_type": "stream",
     "text": [
      "(0.4103202176707729, 9.654537981312385e-09)\n"
     ]
    },
    {
     "data": {
      "image/png": "[encoded data removed]",
      "text/plain": [
       "<Figure size 432x288 with 1 Axes>"
      ]
     },
     "metadata": {
      "needs_background": "light"
     },
     "output_type": "display_data"
    }
   ],
   "source": [
    "x= south_hem ['Latitude']\n",
    "y = south_hem ['Cloudiness']\n",
    "correlation = st.pearsonr(x,y)\n",
    "print(correlation)\n",
    "\n",
    "(slope, intercept, rvalue, pvalue, stderr) = linregress(x, y)\n",
    "regress_values = x* slope + intercept\n",
    "line_equation = \"y = \" + str(round(slope,2)) + \"x + \" + str(round(intercept,2))\n",
    "\n",
    "plt.scatter(x,y)\n",
    "plt.plot(x,regress_values, \"r-\")\n",
    "plt.annotate(line_equation, (-50,80), fontsize = 15, color=\"red\")\n",
    "\n",
    "plt.xlabel(\"Latitude\")\n",
    "plt.ylabel (\"Cloudiness\")\n",
    "plt.title(\"Southern Hemisphere - Cloudiness vs. Latitude\")\n",
    "plt.show()"
   ]
  },
  {
   "cell_type": "code",
   "execution_count": null,
   "metadata": {},
   "outputs": [],
   "source": [
    "#Data for the relationship between cloudiness and latitude in the Southern hemisphere mimics that of the northern hemisphere. The relationship also looks like it has a positive correlation - as latitude increases, so does cloudiness."
   ]
  },
  {
   "cell_type": "markdown",
   "metadata": {},
   "source": [
    "####  Northern Hemisphere - Wind Speed (mph) vs. Latitude Linear Regression"
   ]
  },
  {
   "cell_type": "code",
   "execution_count": 22,
   "metadata": {},
   "outputs": [
    {
     "name": "stdout",
     "output_type": "stream",
     "text": [
      "(0.06675735067210434, 0.19118789528607055)\n"
     ]
    },
    {
     "data": {
      "image/png": "[encoded data removed]",
      "text/plain": [
       "<Figure size 432x288 with 1 Axes>"
      ]
     },
     "metadata": {
      "needs_background": "light"
     },
     "output_type": "display_data"
    }
   ],
   "source": [
    "x= north_hem ['Latitude']\n",
    "y = north_hem ['Wind Speed']\n",
    "correlation = st.pearsonr(x,y)\n",
    "print(correlation)\n",
    "\n",
    "(slope, intercept, rvalue, pvalue, stderr) = linregress(x, y)\n",
    "regress_values = x* slope + intercept\n",
    "line_equation = \"y = \" + str(round(slope,2)) + \"x + \" + str(round(intercept,2))\n",
    "\n",
    "plt.scatter(x,y)\n",
    "plt.plot(x,regress_values, \"r-\")\n",
    "plt.annotate(line_equation, (0,30), fontsize = 15, color=\"red\")\n",
    "\n",
    "plt.xlabel(\"Latitude\")\n",
    "plt.ylabel (\"Wind Speed\")\n",
    "plt.title(\"Northern Hemisphere - Wind Speed vs. Latitude\")\n",
    "plt.show()"
   ]
  },
  {
   "cell_type": "code",
   "execution_count": null,
   "metadata": {},
   "outputs": [],
   "source": [
    "#When looking at the northern hemisphere relationship between wind speed and latitude, the correlation is very weak and therefore not much can be concluded."
   ]
  },
  {
   "cell_type": "markdown",
   "metadata": {},
   "source": [
    "####  Southern Hemisphere - Wind Speed (mph) vs. Latitude Linear Regression"
   ]
  },
  {
   "cell_type": "code",
   "execution_count": 23,
   "metadata": {},
   "outputs": [
    {
     "name": "stdout",
     "output_type": "stream",
     "text": [
      "(-0.35869727743662577, 7.109524947720878e-07)\n"
     ]
    },
    {
     "data": {
      "image/png": "[encoded data removed]",
      "text/plain": [
       "<Figure size 432x288 with 1 Axes>"
      ]
     },
     "metadata": {
      "needs_background": "light"
     },
     "output_type": "display_data"
    }
   ],
   "source": [
    "x= south_hem ['Latitude']\n",
    "y = south_hem ['Wind Speed']\n",
    "correlation = st.pearsonr(x,y)\n",
    "print(correlation)\n",
    "\n",
    "(slope, intercept, rvalue, pvalue, stderr) = linregress(x, y)\n",
    "regress_values = x* slope + intercept\n",
    "line_equation = \"y = \" + str(round(slope,2)) + \"x + \" + str(round(intercept,2))\n",
    "\n",
    "plt.scatter(x,y)\n",
    "plt.plot(x,regress_values, \"r-\")\n",
    "plt.annotate(line_equation, (60,20), fontsize = 15, color=\"red\")\n",
    "\n",
    "plt.xlabel(\"Latitude\")\n",
    "plt.ylabel (\"Wind Speed\")\n",
    "plt.title(\"Southern Hemisphere - Wind Speed vs. Latitude\")\n",
    "plt.show()"
   ]
  },
  {
   "cell_type": "code",
   "execution_count": null,
   "metadata": {},
   "outputs": [],
   "source": [
    "#When looking at the southern hemisphere relationship between wind speed and latitude, the correlation seems to be a negative one. As latitude increases, wind speed decreases."
   ]
  }
 ],
 "metadata": {
  "anaconda-cloud": {},
  "kernel_info": {
   "name": "python3"
  },
  "kernelspec": {
   "display_name": "Python 3 (ipykernel)",
   "language": "python",
   "name": "python3"
  },
  "language_info": {
   "codemirror_mode": {
    "name": "ipython",
    "version": 3
   },
   "file_extension": ".py",
   "mimetype": "text/x-python",
   "name": "python",
   "nbconvert_exporter": "python",
   "pygments_lexer": "ipython3",
   "version": "3.9.7"
  },
  "latex_envs": {
   "LaTeX_envs_menu_present": true,
   "autoclose": false,
   "autocomplete": true,
   "bibliofile": "biblio.bib",
   "cite_by": "apalike",
   "current_citInitial": 1,
   "eqLabelWithNumbers": true,
   "eqNumInitial": 1,
   "hotkeys": {
    "equation": "Ctrl-E",
    "itemize": "Ctrl-I"
   },
   "labels_anchors": false,
   "latex_user_defs": false,
   "report_style_numbering": false,
   "user_envs_cfg": false
  },
  "nteract": {
   "version": "0.12.3"
  }
 },
 "nbformat": 4,
 "nbformat_minor": 2
}
